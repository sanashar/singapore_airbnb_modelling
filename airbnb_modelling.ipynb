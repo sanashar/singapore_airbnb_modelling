{
 "cells": [
  {
   "cell_type": "code",
   "execution_count": 1,
   "metadata": {
    "id": "OZjF2blzRdlt"
   },
   "outputs": [],
   "source": [
    "# Import libraries\n",
    "\n",
    "import numpy as np\n",
    "import pandas as pd\n",
    "from math import pi\n",
    "\n",
    "import matplotlib.pyplot as plt\n",
    "import seaborn as sns\n",
    "\n",
    "import statsmodels.api as sm\n",
    "\n",
    "from sklearn.model_selection import train_test_split\n",
    "from sklearn.preprocessing import PolynomialFeatures\n",
    "from sklearn.linear_model import LinearRegression as lr\n",
    "from sklearn.preprocessing import OneHotEncoder\n",
    "from sklearn.compose import ColumnTransformer\n",
    "from sklearn.preprocessing import LabelEncoder"
   ]
  },
  {
   "cell_type": "markdown",
   "metadata": {},
   "source": [
    "using pandas to read the clean csv file"
   ]
  },
  {
   "cell_type": "code",
   "execution_count": 82,
   "metadata": {
    "colab": {
     "base_uri": "https://localhost:8080/",
     "height": 808
    },
    "id": "3ij6DM8jPVYt",
    "outputId": "56608345-2095-4ffb-86ce-df56790caeb3"
   },
   "outputs": [
    {
     "data": {
      "text/html": [
       "<div>\n",
       "<style scoped>\n",
       "    .dataframe tbody tr th:only-of-type {\n",
       "        vertical-align: middle;\n",
       "    }\n",
       "\n",
       "    .dataframe tbody tr th {\n",
       "        vertical-align: top;\n",
       "    }\n",
       "\n",
       "    .dataframe thead th {\n",
       "        text-align: right;\n",
       "    }\n",
       "</style>\n",
       "<table border=\"1\" class=\"dataframe\">\n",
       "  <thead>\n",
       "    <tr style=\"text-align: right;\">\n",
       "      <th></th>\n",
       "      <th>id</th>\n",
       "      <th>name</th>\n",
       "      <th>host_id</th>\n",
       "      <th>host_name</th>\n",
       "      <th>neighbourhood_group</th>\n",
       "      <th>neighbourhood</th>\n",
       "      <th>latitude</th>\n",
       "      <th>longitude</th>\n",
       "      <th>room_type</th>\n",
       "      <th>price</th>\n",
       "      <th>minimum_nights</th>\n",
       "      <th>number_of_reviews</th>\n",
       "      <th>last_review</th>\n",
       "      <th>reviews_per_month</th>\n",
       "      <th>calculated_host_listings_count</th>\n",
       "      <th>availability_365</th>\n",
       "    </tr>\n",
       "  </thead>\n",
       "  <tbody>\n",
       "    <tr>\n",
       "      <th>0</th>\n",
       "      <td>49091</td>\n",
       "      <td>COZICOMFORT LONG TERM STAY ROOM 2</td>\n",
       "      <td>266763</td>\n",
       "      <td>Francesca</td>\n",
       "      <td>North Region</td>\n",
       "      <td>Woodlands</td>\n",
       "      <td>1.44255</td>\n",
       "      <td>103.79580</td>\n",
       "      <td>Private room</td>\n",
       "      <td>83</td>\n",
       "      <td>180</td>\n",
       "      <td>1</td>\n",
       "      <td>2013-10-21</td>\n",
       "      <td>0.01</td>\n",
       "      <td>2</td>\n",
       "      <td>365</td>\n",
       "    </tr>\n",
       "    <tr>\n",
       "      <th>1</th>\n",
       "      <td>50646</td>\n",
       "      <td>Pleasant Room along Bukit Timah</td>\n",
       "      <td>227796</td>\n",
       "      <td>Sujatha</td>\n",
       "      <td>Central Region</td>\n",
       "      <td>Bukit Timah</td>\n",
       "      <td>1.33235</td>\n",
       "      <td>103.78521</td>\n",
       "      <td>Private room</td>\n",
       "      <td>81</td>\n",
       "      <td>90</td>\n",
       "      <td>18</td>\n",
       "      <td>2014-12-26</td>\n",
       "      <td>0.28</td>\n",
       "      <td>1</td>\n",
       "      <td>365</td>\n",
       "    </tr>\n",
       "    <tr>\n",
       "      <th>2</th>\n",
       "      <td>56334</td>\n",
       "      <td>COZICOMFORT</td>\n",
       "      <td>266763</td>\n",
       "      <td>Francesca</td>\n",
       "      <td>North Region</td>\n",
       "      <td>Woodlands</td>\n",
       "      <td>1.44246</td>\n",
       "      <td>103.79667</td>\n",
       "      <td>Private room</td>\n",
       "      <td>69</td>\n",
       "      <td>6</td>\n",
       "      <td>20</td>\n",
       "      <td>2015-10-01</td>\n",
       "      <td>0.20</td>\n",
       "      <td>2</td>\n",
       "      <td>365</td>\n",
       "    </tr>\n",
       "    <tr>\n",
       "      <th>3</th>\n",
       "      <td>71609</td>\n",
       "      <td>Ensuite Room (Room 1 &amp; 2) near EXPO</td>\n",
       "      <td>367042</td>\n",
       "      <td>Belinda</td>\n",
       "      <td>East Region</td>\n",
       "      <td>Tampines</td>\n",
       "      <td>1.34541</td>\n",
       "      <td>103.95712</td>\n",
       "      <td>Private room</td>\n",
       "      <td>206</td>\n",
       "      <td>1</td>\n",
       "      <td>14</td>\n",
       "      <td>2019-08-11</td>\n",
       "      <td>0.15</td>\n",
       "      <td>9</td>\n",
       "      <td>353</td>\n",
       "    </tr>\n",
       "    <tr>\n",
       "      <th>4</th>\n",
       "      <td>71896</td>\n",
       "      <td>B&amp;B  Room 1 near Airport &amp; EXPO</td>\n",
       "      <td>367042</td>\n",
       "      <td>Belinda</td>\n",
       "      <td>East Region</td>\n",
       "      <td>Tampines</td>\n",
       "      <td>1.34567</td>\n",
       "      <td>103.95963</td>\n",
       "      <td>Private room</td>\n",
       "      <td>94</td>\n",
       "      <td>1</td>\n",
       "      <td>22</td>\n",
       "      <td>2019-07-28</td>\n",
       "      <td>0.22</td>\n",
       "      <td>9</td>\n",
       "      <td>355</td>\n",
       "    </tr>\n",
       "    <tr>\n",
       "      <th>...</th>\n",
       "      <td>...</td>\n",
       "      <td>...</td>\n",
       "      <td>...</td>\n",
       "      <td>...</td>\n",
       "      <td>...</td>\n",
       "      <td>...</td>\n",
       "      <td>...</td>\n",
       "      <td>...</td>\n",
       "      <td>...</td>\n",
       "      <td>...</td>\n",
       "      <td>...</td>\n",
       "      <td>...</td>\n",
       "      <td>...</td>\n",
       "      <td>...</td>\n",
       "      <td>...</td>\n",
       "      <td>...</td>\n",
       "    </tr>\n",
       "    <tr>\n",
       "      <th>3529</th>\n",
       "      <td>37619286</td>\n",
       "      <td>Double Pod Capsule in Mixed Dorm</td>\n",
       "      <td>87731750</td>\n",
       "      <td>Gap Year</td>\n",
       "      <td>Central Region</td>\n",
       "      <td>Kallang</td>\n",
       "      <td>1.31505</td>\n",
       "      <td>103.86022</td>\n",
       "      <td>Shared room</td>\n",
       "      <td>56</td>\n",
       "      <td>1</td>\n",
       "      <td>1</td>\n",
       "      <td>2019-08-13</td>\n",
       "      <td>1.00</td>\n",
       "      <td>8</td>\n",
       "      <td>121</td>\n",
       "    </tr>\n",
       "    <tr>\n",
       "      <th>3530</th>\n",
       "      <td>37690516</td>\n",
       "      <td>cozy Condominium in quite neighbourhoods</td>\n",
       "      <td>165475492</td>\n",
       "      <td>BOONChean</td>\n",
       "      <td>Central Region</td>\n",
       "      <td>Toa Payoh</td>\n",
       "      <td>1.34063</td>\n",
       "      <td>103.88219</td>\n",
       "      <td>Private room</td>\n",
       "      <td>60</td>\n",
       "      <td>1</td>\n",
       "      <td>1</td>\n",
       "      <td>2019-08-12</td>\n",
       "      <td>1.00</td>\n",
       "      <td>1</td>\n",
       "      <td>1</td>\n",
       "    </tr>\n",
       "    <tr>\n",
       "      <th>3531</th>\n",
       "      <td>37798739</td>\n",
       "      <td>near Clementi MRT female only</td>\n",
       "      <td>157856583</td>\n",
       "      <td>Elyssa</td>\n",
       "      <td>West Region</td>\n",
       "      <td>Clementi</td>\n",
       "      <td>1.30677</td>\n",
       "      <td>103.76224</td>\n",
       "      <td>Private room</td>\n",
       "      <td>56</td>\n",
       "      <td>1</td>\n",
       "      <td>1</td>\n",
       "      <td>2019-08-17</td>\n",
       "      <td>1.00</td>\n",
       "      <td>1</td>\n",
       "      <td>120</td>\n",
       "    </tr>\n",
       "    <tr>\n",
       "      <th>3532</th>\n",
       "      <td>37841266</td>\n",
       "      <td>Sunny Modern Condo in City Center walk to MRT</td>\n",
       "      <td>39207304</td>\n",
       "      <td>Sophie</td>\n",
       "      <td>Central Region</td>\n",
       "      <td>Rochor</td>\n",
       "      <td>1.30074</td>\n",
       "      <td>103.84742</td>\n",
       "      <td>Entire home/apt</td>\n",
       "      <td>237</td>\n",
       "      <td>7</td>\n",
       "      <td>1</td>\n",
       "      <td>2019-08-25</td>\n",
       "      <td>1.00</td>\n",
       "      <td>12</td>\n",
       "      <td>159</td>\n",
       "    </tr>\n",
       "    <tr>\n",
       "      <th>3533</th>\n",
       "      <td>37852422</td>\n",
       "      <td>Private Room With King Size Bed Near Seng Kang...</td>\n",
       "      <td>119880789</td>\n",
       "      <td>Christine</td>\n",
       "      <td>North-East Region</td>\n",
       "      <td>Sengkang</td>\n",
       "      <td>1.39324</td>\n",
       "      <td>103.89002</td>\n",
       "      <td>Private room</td>\n",
       "      <td>60</td>\n",
       "      <td>1</td>\n",
       "      <td>1</td>\n",
       "      <td>2019-08-25</td>\n",
       "      <td>1.00</td>\n",
       "      <td>1</td>\n",
       "      <td>298</td>\n",
       "    </tr>\n",
       "  </tbody>\n",
       "</table>\n",
       "<p>3534 rows × 16 columns</p>\n",
       "</div>"
      ],
      "text/plain": [
       "            id                                               name    host_id  \\\n",
       "0        49091                  COZICOMFORT LONG TERM STAY ROOM 2     266763   \n",
       "1        50646                    Pleasant Room along Bukit Timah     227796   \n",
       "2        56334                                        COZICOMFORT     266763   \n",
       "3        71609                Ensuite Room (Room 1 & 2) near EXPO     367042   \n",
       "4        71896                    B&B  Room 1 near Airport & EXPO     367042   \n",
       "...        ...                                                ...        ...   \n",
       "3529  37619286                   Double Pod Capsule in Mixed Dorm   87731750   \n",
       "3530  37690516           cozy Condominium in quite neighbourhoods  165475492   \n",
       "3531  37798739                      near Clementi MRT female only  157856583   \n",
       "3532  37841266      Sunny Modern Condo in City Center walk to MRT   39207304   \n",
       "3533  37852422  Private Room With King Size Bed Near Seng Kang...  119880789   \n",
       "\n",
       "      host_name neighbourhood_group neighbourhood  latitude  longitude  \\\n",
       "0     Francesca        North Region     Woodlands   1.44255  103.79580   \n",
       "1       Sujatha      Central Region   Bukit Timah   1.33235  103.78521   \n",
       "2     Francesca        North Region     Woodlands   1.44246  103.79667   \n",
       "3       Belinda         East Region      Tampines   1.34541  103.95712   \n",
       "4       Belinda         East Region      Tampines   1.34567  103.95963   \n",
       "...         ...                 ...           ...       ...        ...   \n",
       "3529   Gap Year      Central Region       Kallang   1.31505  103.86022   \n",
       "3530  BOONChean      Central Region     Toa Payoh   1.34063  103.88219   \n",
       "3531     Elyssa         West Region      Clementi   1.30677  103.76224   \n",
       "3532     Sophie      Central Region        Rochor   1.30074  103.84742   \n",
       "3533  Christine   North-East Region      Sengkang   1.39324  103.89002   \n",
       "\n",
       "            room_type  price  minimum_nights  number_of_reviews last_review  \\\n",
       "0        Private room     83             180                  1  2013-10-21   \n",
       "1        Private room     81              90                 18  2014-12-26   \n",
       "2        Private room     69               6                 20  2015-10-01   \n",
       "3        Private room    206               1                 14  2019-08-11   \n",
       "4        Private room     94               1                 22  2019-07-28   \n",
       "...               ...    ...             ...                ...         ...   \n",
       "3529      Shared room     56               1                  1  2019-08-13   \n",
       "3530     Private room     60               1                  1  2019-08-12   \n",
       "3531     Private room     56               1                  1  2019-08-17   \n",
       "3532  Entire home/apt    237               7                  1  2019-08-25   \n",
       "3533     Private room     60               1                  1  2019-08-25   \n",
       "\n",
       "      reviews_per_month  calculated_host_listings_count  availability_365  \n",
       "0                  0.01                               2               365  \n",
       "1                  0.28                               1               365  \n",
       "2                  0.20                               2               365  \n",
       "3                  0.15                               9               353  \n",
       "4                  0.22                               9               355  \n",
       "...                 ...                             ...               ...  \n",
       "3529               1.00                               8               121  \n",
       "3530               1.00                               1                 1  \n",
       "3531               1.00                               1               120  \n",
       "3532               1.00                              12               159  \n",
       "3533               1.00                               1               298  \n",
       "\n",
       "[3534 rows x 16 columns]"
      ]
     },
     "execution_count": 82,
     "metadata": {},
     "output_type": "execute_result"
    }
   ],
   "source": [
    "# Read the downloaded file\n",
    "\n",
    "df = pd.read_csv(\"listings_clean.csv\", na_values=' ')\n",
    "df"
   ]
  },
  {
   "cell_type": "markdown",
   "metadata": {},
   "source": [
    "There are 16 columns in total but we need only numerical values for our model."
   ]
  },
  {
   "cell_type": "code",
   "execution_count": 83,
   "metadata": {
    "colab": {
     "base_uri": "https://localhost:8080/",
     "height": 34
    },
    "id": "3ODQACH1PVYx",
    "outputId": "8cd26a5d-216f-436c-9849-f1e5afe5622d"
   },
   "outputs": [
    {
     "data": {
      "text/plain": [
       "(3534, 16)"
      ]
     },
     "execution_count": 83,
     "metadata": {},
     "output_type": "execute_result"
    }
   ],
   "source": [
    "# Display the number of rows & columns\n",
    "\n",
    "df.shape"
   ]
  },
  {
   "cell_type": "code",
   "execution_count": 84,
   "metadata": {
    "colab": {
     "base_uri": "https://localhost:8080/",
     "height": 416
    },
    "id": "SBR9R022PVY1",
    "outputId": "40c13bff-f90b-4c0b-fbfa-0c2ebbb59619"
   },
   "outputs": [
    {
     "name": "stdout",
     "output_type": "stream",
     "text": [
      "<class 'pandas.core.frame.DataFrame'>\n",
      "RangeIndex: 3534 entries, 0 to 3533\n",
      "Data columns (total 16 columns):\n",
      " #   Column                          Non-Null Count  Dtype  \n",
      "---  ------                          --------------  -----  \n",
      " 0   id                              3534 non-null   int64  \n",
      " 1   name                            3534 non-null   object \n",
      " 2   host_id                         3534 non-null   int64  \n",
      " 3   host_name                       3534 non-null   object \n",
      " 4   neighbourhood_group             3534 non-null   object \n",
      " 5   neighbourhood                   3534 non-null   object \n",
      " 6   latitude                        3534 non-null   float64\n",
      " 7   longitude                       3534 non-null   float64\n",
      " 8   room_type                       3534 non-null   object \n",
      " 9   price                           3534 non-null   int64  \n",
      " 10  minimum_nights                  3534 non-null   int64  \n",
      " 11  number_of_reviews               3534 non-null   int64  \n",
      " 12  last_review                     3534 non-null   object \n",
      " 13  reviews_per_month               3534 non-null   float64\n",
      " 14  calculated_host_listings_count  3534 non-null   int64  \n",
      " 15  availability_365                3534 non-null   int64  \n",
      "dtypes: float64(3), int64(7), object(6)\n",
      "memory usage: 441.9+ KB\n"
     ]
    }
   ],
   "source": [
    "# Display the dataframe info()\n",
    "\n",
    "df.info()"
   ]
  },
  {
   "cell_type": "code",
   "execution_count": 85,
   "metadata": {
    "colab": {
     "base_uri": "https://localhost:8080/",
     "height": 312
    },
    "id": "yutujMd-PVY4",
    "outputId": "6373c263-54ab-4edd-a832-745b7f9da116"
   },
   "outputs": [
    {
     "data": {
      "text/plain": [
       "id                                0\n",
       "name                              0\n",
       "host_id                           0\n",
       "host_name                         0\n",
       "neighbourhood_group               0\n",
       "neighbourhood                     0\n",
       "latitude                          0\n",
       "longitude                         0\n",
       "room_type                         0\n",
       "price                             0\n",
       "minimum_nights                    0\n",
       "number_of_reviews                 0\n",
       "last_review                       0\n",
       "reviews_per_month                 0\n",
       "calculated_host_listings_count    0\n",
       "availability_365                  0\n",
       "dtype: int64"
      ]
     },
     "execution_count": 85,
     "metadata": {},
     "output_type": "execute_result"
    }
   ],
   "source": [
    "# Display the missing values\n",
    "\n",
    "df.isna().sum()"
   ]
  },
  {
   "cell_type": "code",
   "execution_count": 86,
   "metadata": {
    "colab": {
     "base_uri": "https://localhost:8080/",
     "height": 121
    },
    "id": "yo5j59uDPVY7",
    "outputId": "1cc101be-247a-4081-ef76-8cb551f95446"
   },
   "outputs": [
    {
     "data": {
      "text/plain": [
       "Index(['id', 'name', 'host_id', 'host_name', 'neighbourhood_group',\n",
       "       'neighbourhood', 'latitude', 'longitude', 'room_type', 'price',\n",
       "       'minimum_nights', 'number_of_reviews', 'last_review',\n",
       "       'reviews_per_month', 'calculated_host_listings_count',\n",
       "       'availability_365'],\n",
       "      dtype='object')"
      ]
     },
     "execution_count": 86,
     "metadata": {},
     "output_type": "execute_result"
    }
   ],
   "source": [
    "# Listing the columns\n",
    "\n",
    "df.columns"
   ]
  },
  {
   "cell_type": "markdown",
   "metadata": {
    "id": "XzikKKwHPVY-"
   },
   "source": [
    "### drop the columns which have string values"
   ]
  },
  {
   "cell_type": "markdown",
   "metadata": {},
   "source": [
    "dropping all the columns which do not have numerical values"
   ]
  },
  {
   "cell_type": "code",
   "execution_count": 87,
   "metadata": {
    "id": "ICo_N8pEPVY_"
   },
   "outputs": [],
   "source": [
    "df_dropped = df.drop(['id', 'host_id', 'name', 'host_name', 'neighbourhood_group', 'neighbourhood', 'room_type', 'last_review'], axis=1)"
   ]
  },
  {
   "cell_type": "code",
   "execution_count": 88,
   "metadata": {
    "colab": {
     "base_uri": "https://localhost:8080/",
     "height": 424
    },
    "id": "eburJ1ctPVZC",
    "outputId": "f3070e2f-0350-40c6-94bc-170adf8afdbf"
   },
   "outputs": [
    {
     "data": {
      "text/html": [
       "<div>\n",
       "<style scoped>\n",
       "    .dataframe tbody tr th:only-of-type {\n",
       "        vertical-align: middle;\n",
       "    }\n",
       "\n",
       "    .dataframe tbody tr th {\n",
       "        vertical-align: top;\n",
       "    }\n",
       "\n",
       "    .dataframe thead th {\n",
       "        text-align: right;\n",
       "    }\n",
       "</style>\n",
       "<table border=\"1\" class=\"dataframe\">\n",
       "  <thead>\n",
       "    <tr style=\"text-align: right;\">\n",
       "      <th></th>\n",
       "      <th>latitude</th>\n",
       "      <th>longitude</th>\n",
       "      <th>price</th>\n",
       "      <th>minimum_nights</th>\n",
       "      <th>number_of_reviews</th>\n",
       "      <th>reviews_per_month</th>\n",
       "      <th>calculated_host_listings_count</th>\n",
       "      <th>availability_365</th>\n",
       "    </tr>\n",
       "  </thead>\n",
       "  <tbody>\n",
       "    <tr>\n",
       "      <th>0</th>\n",
       "      <td>1.44255</td>\n",
       "      <td>103.79580</td>\n",
       "      <td>83</td>\n",
       "      <td>180</td>\n",
       "      <td>1</td>\n",
       "      <td>0.01</td>\n",
       "      <td>2</td>\n",
       "      <td>365</td>\n",
       "    </tr>\n",
       "    <tr>\n",
       "      <th>1</th>\n",
       "      <td>1.33235</td>\n",
       "      <td>103.78521</td>\n",
       "      <td>81</td>\n",
       "      <td>90</td>\n",
       "      <td>18</td>\n",
       "      <td>0.28</td>\n",
       "      <td>1</td>\n",
       "      <td>365</td>\n",
       "    </tr>\n",
       "    <tr>\n",
       "      <th>2</th>\n",
       "      <td>1.44246</td>\n",
       "      <td>103.79667</td>\n",
       "      <td>69</td>\n",
       "      <td>6</td>\n",
       "      <td>20</td>\n",
       "      <td>0.20</td>\n",
       "      <td>2</td>\n",
       "      <td>365</td>\n",
       "    </tr>\n",
       "    <tr>\n",
       "      <th>3</th>\n",
       "      <td>1.34541</td>\n",
       "      <td>103.95712</td>\n",
       "      <td>206</td>\n",
       "      <td>1</td>\n",
       "      <td>14</td>\n",
       "      <td>0.15</td>\n",
       "      <td>9</td>\n",
       "      <td>353</td>\n",
       "    </tr>\n",
       "    <tr>\n",
       "      <th>4</th>\n",
       "      <td>1.34567</td>\n",
       "      <td>103.95963</td>\n",
       "      <td>94</td>\n",
       "      <td>1</td>\n",
       "      <td>22</td>\n",
       "      <td>0.22</td>\n",
       "      <td>9</td>\n",
       "      <td>355</td>\n",
       "    </tr>\n",
       "    <tr>\n",
       "      <th>...</th>\n",
       "      <td>...</td>\n",
       "      <td>...</td>\n",
       "      <td>...</td>\n",
       "      <td>...</td>\n",
       "      <td>...</td>\n",
       "      <td>...</td>\n",
       "      <td>...</td>\n",
       "      <td>...</td>\n",
       "    </tr>\n",
       "    <tr>\n",
       "      <th>3529</th>\n",
       "      <td>1.31505</td>\n",
       "      <td>103.86022</td>\n",
       "      <td>56</td>\n",
       "      <td>1</td>\n",
       "      <td>1</td>\n",
       "      <td>1.00</td>\n",
       "      <td>8</td>\n",
       "      <td>121</td>\n",
       "    </tr>\n",
       "    <tr>\n",
       "      <th>3530</th>\n",
       "      <td>1.34063</td>\n",
       "      <td>103.88219</td>\n",
       "      <td>60</td>\n",
       "      <td>1</td>\n",
       "      <td>1</td>\n",
       "      <td>1.00</td>\n",
       "      <td>1</td>\n",
       "      <td>1</td>\n",
       "    </tr>\n",
       "    <tr>\n",
       "      <th>3531</th>\n",
       "      <td>1.30677</td>\n",
       "      <td>103.76224</td>\n",
       "      <td>56</td>\n",
       "      <td>1</td>\n",
       "      <td>1</td>\n",
       "      <td>1.00</td>\n",
       "      <td>1</td>\n",
       "      <td>120</td>\n",
       "    </tr>\n",
       "    <tr>\n",
       "      <th>3532</th>\n",
       "      <td>1.30074</td>\n",
       "      <td>103.84742</td>\n",
       "      <td>237</td>\n",
       "      <td>7</td>\n",
       "      <td>1</td>\n",
       "      <td>1.00</td>\n",
       "      <td>12</td>\n",
       "      <td>159</td>\n",
       "    </tr>\n",
       "    <tr>\n",
       "      <th>3533</th>\n",
       "      <td>1.39324</td>\n",
       "      <td>103.89002</td>\n",
       "      <td>60</td>\n",
       "      <td>1</td>\n",
       "      <td>1</td>\n",
       "      <td>1.00</td>\n",
       "      <td>1</td>\n",
       "      <td>298</td>\n",
       "    </tr>\n",
       "  </tbody>\n",
       "</table>\n",
       "<p>3534 rows × 8 columns</p>\n",
       "</div>"
      ],
      "text/plain": [
       "      latitude  longitude  price  minimum_nights  number_of_reviews  \\\n",
       "0      1.44255  103.79580     83             180                  1   \n",
       "1      1.33235  103.78521     81              90                 18   \n",
       "2      1.44246  103.79667     69               6                 20   \n",
       "3      1.34541  103.95712    206               1                 14   \n",
       "4      1.34567  103.95963     94               1                 22   \n",
       "...        ...        ...    ...             ...                ...   \n",
       "3529   1.31505  103.86022     56               1                  1   \n",
       "3530   1.34063  103.88219     60               1                  1   \n",
       "3531   1.30677  103.76224     56               1                  1   \n",
       "3532   1.30074  103.84742    237               7                  1   \n",
       "3533   1.39324  103.89002     60               1                  1   \n",
       "\n",
       "      reviews_per_month  calculated_host_listings_count  availability_365  \n",
       "0                  0.01                               2               365  \n",
       "1                  0.28                               1               365  \n",
       "2                  0.20                               2               365  \n",
       "3                  0.15                               9               353  \n",
       "4                  0.22                               9               355  \n",
       "...                 ...                             ...               ...  \n",
       "3529               1.00                               8               121  \n",
       "3530               1.00                               1                 1  \n",
       "3531               1.00                               1               120  \n",
       "3532               1.00                              12               159  \n",
       "3533               1.00                               1               298  \n",
       "\n",
       "[3534 rows x 8 columns]"
      ]
     },
     "execution_count": 88,
     "metadata": {},
     "output_type": "execute_result"
    }
   ],
   "source": [
    "df_dropped"
   ]
  },
  {
   "cell_type": "code",
   "execution_count": 102,
   "metadata": {},
   "outputs": [
    {
     "data": {
      "text/plain": [
       "Index(['latitude', 'longitude', 'price', 'minimum_nights', 'number_of_reviews',\n",
       "       'reviews_per_month', 'calculated_host_listings_count',\n",
       "       'availability_365'],\n",
       "      dtype='object')"
      ]
     },
     "execution_count": 102,
     "metadata": {},
     "output_type": "execute_result"
    }
   ],
   "source": [
    "df_dropped.columns"
   ]
  },
  {
   "cell_type": "markdown",
   "metadata": {},
   "source": [
    "https://scikit-learn.org/stable/modules/generated/sklearn.preprocessing.StandardScaler.html"
   ]
  },
  {
   "cell_type": "markdown",
   "metadata": {},
   "source": [
    "using standard scaler to scale the values, therefore, now mean is 0 and standard deviation is 1"
   ]
  },
  {
   "cell_type": "code",
   "execution_count": 93,
   "metadata": {},
   "outputs": [],
   "source": [
    "from sklearn.preprocessing import StandardScaler"
   ]
  },
  {
   "cell_type": "code",
   "execution_count": 144,
   "metadata": {},
   "outputs": [
    {
     "data": {
      "text/html": [
       "<div>\n",
       "<style scoped>\n",
       "    .dataframe tbody tr th:only-of-type {\n",
       "        vertical-align: middle;\n",
       "    }\n",
       "\n",
       "    .dataframe tbody tr th {\n",
       "        vertical-align: top;\n",
       "    }\n",
       "\n",
       "    .dataframe thead th {\n",
       "        text-align: right;\n",
       "    }\n",
       "</style>\n",
       "<table border=\"1\" class=\"dataframe\">\n",
       "  <thead>\n",
       "    <tr style=\"text-align: right;\">\n",
       "      <th></th>\n",
       "      <th>price</th>\n",
       "      <th>reviews_per_month</th>\n",
       "    </tr>\n",
       "  </thead>\n",
       "  <tbody>\n",
       "    <tr>\n",
       "      <th>0</th>\n",
       "      <td>83</td>\n",
       "      <td>0.01</td>\n",
       "    </tr>\n",
       "    <tr>\n",
       "      <th>1</th>\n",
       "      <td>81</td>\n",
       "      <td>0.28</td>\n",
       "    </tr>\n",
       "    <tr>\n",
       "      <th>2</th>\n",
       "      <td>69</td>\n",
       "      <td>0.20</td>\n",
       "    </tr>\n",
       "    <tr>\n",
       "      <th>3</th>\n",
       "      <td>206</td>\n",
       "      <td>0.15</td>\n",
       "    </tr>\n",
       "    <tr>\n",
       "      <th>4</th>\n",
       "      <td>94</td>\n",
       "      <td>0.22</td>\n",
       "    </tr>\n",
       "    <tr>\n",
       "      <th>...</th>\n",
       "      <td>...</td>\n",
       "      <td>...</td>\n",
       "    </tr>\n",
       "    <tr>\n",
       "      <th>3529</th>\n",
       "      <td>56</td>\n",
       "      <td>1.00</td>\n",
       "    </tr>\n",
       "    <tr>\n",
       "      <th>3530</th>\n",
       "      <td>60</td>\n",
       "      <td>1.00</td>\n",
       "    </tr>\n",
       "    <tr>\n",
       "      <th>3531</th>\n",
       "      <td>56</td>\n",
       "      <td>1.00</td>\n",
       "    </tr>\n",
       "    <tr>\n",
       "      <th>3532</th>\n",
       "      <td>237</td>\n",
       "      <td>1.00</td>\n",
       "    </tr>\n",
       "    <tr>\n",
       "      <th>3533</th>\n",
       "      <td>60</td>\n",
       "      <td>1.00</td>\n",
       "    </tr>\n",
       "  </tbody>\n",
       "</table>\n",
       "<p>3534 rows × 2 columns</p>\n",
       "</div>"
      ],
      "text/plain": [
       "      price  reviews_per_month\n",
       "0        83               0.01\n",
       "1        81               0.28\n",
       "2        69               0.20\n",
       "3       206               0.15\n",
       "4        94               0.22\n",
       "...     ...                ...\n",
       "3529     56               1.00\n",
       "3530     60               1.00\n",
       "3531     56               1.00\n",
       "3532    237               1.00\n",
       "3533     60               1.00\n",
       "\n",
       "[3534 rows x 2 columns]"
      ]
     },
     "execution_count": 144,
     "metadata": {},
     "output_type": "execute_result"
    }
   ],
   "source": [
    "df_dropped[['price', 'reviews_per_month']]"
   ]
  },
  {
   "cell_type": "markdown",
   "metadata": {},
   "source": [
    "https://stackoverflow.com/questions/11285613/selecting-multiple-columns-in-a-pandas-dataframe"
   ]
  },
  {
   "cell_type": "code",
   "execution_count": 145,
   "metadata": {},
   "outputs": [],
   "source": [
    "features_df = pd.DataFrame(df_dropped[['price', 'reviews_per_month']])\n",
    "cols_names=['price', 'reviews_per_month']\n",
    "features = features_df[cols_names]\n",
    "scaler = StandardScaler().fit(features.values)\n",
    "features = scaler.transform(features.values)"
   ]
  },
  {
   "cell_type": "code",
   "execution_count": 114,
   "metadata": {},
   "outputs": [
    {
     "data": {
      "text/plain": [
       "Index(['latitude', 'longitude', 'price', 'minimum_nights', 'number_of_reviews',\n",
       "       'reviews_per_month', 'calculated_host_listings_count',\n",
       "       'availability_365'],\n",
       "      dtype='object')"
      ]
     },
     "execution_count": 114,
     "metadata": {},
     "output_type": "execute_result"
    }
   ],
   "source": [
    "df_dropped.columns"
   ]
  },
  {
   "cell_type": "code",
   "execution_count": 148,
   "metadata": {},
   "outputs": [],
   "source": [
    "scaled_features=pd.DataFrame(features, columns = cols_names)"
   ]
  },
  {
   "cell_type": "code",
   "execution_count": 149,
   "metadata": {},
   "outputs": [
    {
     "data": {
      "text/html": [
       "<div>\n",
       "<style scoped>\n",
       "    .dataframe tbody tr th:only-of-type {\n",
       "        vertical-align: middle;\n",
       "    }\n",
       "\n",
       "    .dataframe tbody tr th {\n",
       "        vertical-align: top;\n",
       "    }\n",
       "\n",
       "    .dataframe thead th {\n",
       "        text-align: right;\n",
       "    }\n",
       "</style>\n",
       "<table border=\"1\" class=\"dataframe\">\n",
       "  <thead>\n",
       "    <tr style=\"text-align: right;\">\n",
       "      <th></th>\n",
       "      <th>price</th>\n",
       "      <th>reviews_per_month</th>\n",
       "    </tr>\n",
       "  </thead>\n",
       "  <tbody>\n",
       "    <tr>\n",
       "      <th>0</th>\n",
       "      <td>-0.788387</td>\n",
       "      <td>-0.824329</td>\n",
       "    </tr>\n",
       "    <tr>\n",
       "      <th>1</th>\n",
       "      <td>-0.827384</td>\n",
       "      <td>-0.612324</td>\n",
       "    </tr>\n",
       "    <tr>\n",
       "      <th>2</th>\n",
       "      <td>-1.061366</td>\n",
       "      <td>-0.675140</td>\n",
       "    </tr>\n",
       "    <tr>\n",
       "      <th>3</th>\n",
       "      <td>1.609928</td>\n",
       "      <td>-0.714400</td>\n",
       "    </tr>\n",
       "    <tr>\n",
       "      <th>4</th>\n",
       "      <td>-0.573904</td>\n",
       "      <td>-0.659436</td>\n",
       "    </tr>\n",
       "    <tr>\n",
       "      <th>...</th>\n",
       "      <td>...</td>\n",
       "      <td>...</td>\n",
       "    </tr>\n",
       "    <tr>\n",
       "      <th>3529</th>\n",
       "      <td>-1.314846</td>\n",
       "      <td>-0.046977</td>\n",
       "    </tr>\n",
       "    <tr>\n",
       "      <th>3530</th>\n",
       "      <td>-1.236853</td>\n",
       "      <td>-0.046977</td>\n",
       "    </tr>\n",
       "    <tr>\n",
       "      <th>3531</th>\n",
       "      <td>-1.314846</td>\n",
       "      <td>-0.046977</td>\n",
       "    </tr>\n",
       "    <tr>\n",
       "      <th>3532</th>\n",
       "      <td>2.214382</td>\n",
       "      <td>-0.046977</td>\n",
       "    </tr>\n",
       "    <tr>\n",
       "      <th>3533</th>\n",
       "      <td>-1.236853</td>\n",
       "      <td>-0.046977</td>\n",
       "    </tr>\n",
       "  </tbody>\n",
       "</table>\n",
       "<p>3534 rows × 2 columns</p>\n",
       "</div>"
      ],
      "text/plain": [
       "         price  reviews_per_month\n",
       "0    -0.788387          -0.824329\n",
       "1    -0.827384          -0.612324\n",
       "2    -1.061366          -0.675140\n",
       "3     1.609928          -0.714400\n",
       "4    -0.573904          -0.659436\n",
       "...        ...                ...\n",
       "3529 -1.314846          -0.046977\n",
       "3530 -1.236853          -0.046977\n",
       "3531 -1.314846          -0.046977\n",
       "3532  2.214382          -0.046977\n",
       "3533 -1.236853          -0.046977\n",
       "\n",
       "[3534 rows x 2 columns]"
      ]
     },
     "execution_count": 149,
     "metadata": {},
     "output_type": "execute_result"
    }
   ],
   "source": [
    "scaled_features"
   ]
  },
  {
   "cell_type": "markdown",
   "metadata": {},
   "source": [
    "Replacing previous columns in the dataset with the converted values through using Standard Scalar"
   ]
  },
  {
   "cell_type": "code",
   "execution_count": 151,
   "metadata": {},
   "outputs": [],
   "source": [
    "df_dropped[['price', 'reviews_per_month']]=scaled_features[['price', 'reviews_per_month']]"
   ]
  },
  {
   "cell_type": "code",
   "execution_count": 152,
   "metadata": {},
   "outputs": [
    {
     "data": {
      "text/html": [
       "<div>\n",
       "<style scoped>\n",
       "    .dataframe tbody tr th:only-of-type {\n",
       "        vertical-align: middle;\n",
       "    }\n",
       "\n",
       "    .dataframe tbody tr th {\n",
       "        vertical-align: top;\n",
       "    }\n",
       "\n",
       "    .dataframe thead th {\n",
       "        text-align: right;\n",
       "    }\n",
       "</style>\n",
       "<table border=\"1\" class=\"dataframe\">\n",
       "  <thead>\n",
       "    <tr style=\"text-align: right;\">\n",
       "      <th></th>\n",
       "      <th>latitude</th>\n",
       "      <th>longitude</th>\n",
       "      <th>price</th>\n",
       "      <th>minimum_nights</th>\n",
       "      <th>number_of_reviews</th>\n",
       "      <th>reviews_per_month</th>\n",
       "      <th>calculated_host_listings_count</th>\n",
       "      <th>availability_365</th>\n",
       "    </tr>\n",
       "  </thead>\n",
       "  <tbody>\n",
       "    <tr>\n",
       "      <th>0</th>\n",
       "      <td>1.44255</td>\n",
       "      <td>103.79580</td>\n",
       "      <td>-0.788387</td>\n",
       "      <td>180</td>\n",
       "      <td>1</td>\n",
       "      <td>-0.824329</td>\n",
       "      <td>2</td>\n",
       "      <td>365</td>\n",
       "    </tr>\n",
       "    <tr>\n",
       "      <th>1</th>\n",
       "      <td>1.33235</td>\n",
       "      <td>103.78521</td>\n",
       "      <td>-0.827384</td>\n",
       "      <td>90</td>\n",
       "      <td>18</td>\n",
       "      <td>-0.612324</td>\n",
       "      <td>1</td>\n",
       "      <td>365</td>\n",
       "    </tr>\n",
       "    <tr>\n",
       "      <th>2</th>\n",
       "      <td>1.44246</td>\n",
       "      <td>103.79667</td>\n",
       "      <td>-1.061366</td>\n",
       "      <td>6</td>\n",
       "      <td>20</td>\n",
       "      <td>-0.675140</td>\n",
       "      <td>2</td>\n",
       "      <td>365</td>\n",
       "    </tr>\n",
       "    <tr>\n",
       "      <th>3</th>\n",
       "      <td>1.34541</td>\n",
       "      <td>103.95712</td>\n",
       "      <td>1.609928</td>\n",
       "      <td>1</td>\n",
       "      <td>14</td>\n",
       "      <td>-0.714400</td>\n",
       "      <td>9</td>\n",
       "      <td>353</td>\n",
       "    </tr>\n",
       "    <tr>\n",
       "      <th>4</th>\n",
       "      <td>1.34567</td>\n",
       "      <td>103.95963</td>\n",
       "      <td>-0.573904</td>\n",
       "      <td>1</td>\n",
       "      <td>22</td>\n",
       "      <td>-0.659436</td>\n",
       "      <td>9</td>\n",
       "      <td>355</td>\n",
       "    </tr>\n",
       "    <tr>\n",
       "      <th>...</th>\n",
       "      <td>...</td>\n",
       "      <td>...</td>\n",
       "      <td>...</td>\n",
       "      <td>...</td>\n",
       "      <td>...</td>\n",
       "      <td>...</td>\n",
       "      <td>...</td>\n",
       "      <td>...</td>\n",
       "    </tr>\n",
       "    <tr>\n",
       "      <th>3529</th>\n",
       "      <td>1.31505</td>\n",
       "      <td>103.86022</td>\n",
       "      <td>-1.314846</td>\n",
       "      <td>1</td>\n",
       "      <td>1</td>\n",
       "      <td>-0.046977</td>\n",
       "      <td>8</td>\n",
       "      <td>121</td>\n",
       "    </tr>\n",
       "    <tr>\n",
       "      <th>3530</th>\n",
       "      <td>1.34063</td>\n",
       "      <td>103.88219</td>\n",
       "      <td>-1.236853</td>\n",
       "      <td>1</td>\n",
       "      <td>1</td>\n",
       "      <td>-0.046977</td>\n",
       "      <td>1</td>\n",
       "      <td>1</td>\n",
       "    </tr>\n",
       "    <tr>\n",
       "      <th>3531</th>\n",
       "      <td>1.30677</td>\n",
       "      <td>103.76224</td>\n",
       "      <td>-1.314846</td>\n",
       "      <td>1</td>\n",
       "      <td>1</td>\n",
       "      <td>-0.046977</td>\n",
       "      <td>1</td>\n",
       "      <td>120</td>\n",
       "    </tr>\n",
       "    <tr>\n",
       "      <th>3532</th>\n",
       "      <td>1.30074</td>\n",
       "      <td>103.84742</td>\n",
       "      <td>2.214382</td>\n",
       "      <td>7</td>\n",
       "      <td>1</td>\n",
       "      <td>-0.046977</td>\n",
       "      <td>12</td>\n",
       "      <td>159</td>\n",
       "    </tr>\n",
       "    <tr>\n",
       "      <th>3533</th>\n",
       "      <td>1.39324</td>\n",
       "      <td>103.89002</td>\n",
       "      <td>-1.236853</td>\n",
       "      <td>1</td>\n",
       "      <td>1</td>\n",
       "      <td>-0.046977</td>\n",
       "      <td>1</td>\n",
       "      <td>298</td>\n",
       "    </tr>\n",
       "  </tbody>\n",
       "</table>\n",
       "<p>3534 rows × 8 columns</p>\n",
       "</div>"
      ],
      "text/plain": [
       "      latitude  longitude     price  minimum_nights  number_of_reviews  \\\n",
       "0      1.44255  103.79580 -0.788387             180                  1   \n",
       "1      1.33235  103.78521 -0.827384              90                 18   \n",
       "2      1.44246  103.79667 -1.061366               6                 20   \n",
       "3      1.34541  103.95712  1.609928               1                 14   \n",
       "4      1.34567  103.95963 -0.573904               1                 22   \n",
       "...        ...        ...       ...             ...                ...   \n",
       "3529   1.31505  103.86022 -1.314846               1                  1   \n",
       "3530   1.34063  103.88219 -1.236853               1                  1   \n",
       "3531   1.30677  103.76224 -1.314846               1                  1   \n",
       "3532   1.30074  103.84742  2.214382               7                  1   \n",
       "3533   1.39324  103.89002 -1.236853               1                  1   \n",
       "\n",
       "      reviews_per_month  calculated_host_listings_count  availability_365  \n",
       "0             -0.824329                               2               365  \n",
       "1             -0.612324                               1               365  \n",
       "2             -0.675140                               2               365  \n",
       "3             -0.714400                               9               353  \n",
       "4             -0.659436                               9               355  \n",
       "...                 ...                             ...               ...  \n",
       "3529          -0.046977                               8               121  \n",
       "3530          -0.046977                               1                 1  \n",
       "3531          -0.046977                               1               120  \n",
       "3532          -0.046977                              12               159  \n",
       "3533          -0.046977                               1               298  \n",
       "\n",
       "[3534 rows x 8 columns]"
      ]
     },
     "execution_count": 152,
     "metadata": {},
     "output_type": "execute_result"
    }
   ],
   "source": [
    "df_dropped"
   ]
  },
  {
   "cell_type": "code",
   "execution_count": 121,
   "metadata": {},
   "outputs": [],
   "source": [
    "#df_scaled['latitude', 'longitude', 'price', 'minimum_nights', 'number_of_reviews', 'reviews_per_month', 'calculated_host_listings_count', 'availability_365']=features\n"
   ]
  },
  {
   "cell_type": "code",
   "execution_count": 122,
   "metadata": {},
   "outputs": [],
   "source": [
    "#features"
   ]
  },
  {
   "cell_type": "markdown",
   "metadata": {},
   "source": [
    "Splitting the data into 70:30, 70% is the training data and the rest is testing."
   ]
  },
  {
   "cell_type": "code",
   "execution_count": 153,
   "metadata": {
    "id": "PJwe5VjVPVZS"
   },
   "outputs": [],
   "source": [
    "x_train, x_test, y_train, y_test = train_test_split(df_dropped.drop('price', axis=1), df_dropped.price, test_size=0.3)"
   ]
  },
  {
   "cell_type": "code",
   "execution_count": 154,
   "metadata": {
    "colab": {
     "base_uri": "https://localhost:8080/",
     "height": 34
    },
    "id": "knStw5X7TJds",
    "outputId": "fab567fe-6ec1-451c-905e-7d697dd30f57"
   },
   "outputs": [
    {
     "data": {
      "text/plain": [
       "(2473, 7)"
      ]
     },
     "execution_count": 154,
     "metadata": {},
     "output_type": "execute_result"
    }
   ],
   "source": [
    "x_train.shape"
   ]
  },
  {
   "cell_type": "code",
   "execution_count": 155,
   "metadata": {
    "colab": {
     "base_uri": "https://localhost:8080/",
     "height": 34
    },
    "id": "d48oxsdTTMU8",
    "outputId": "dbfcd429-5891-45a6-fd25-f5452408514d"
   },
   "outputs": [
    {
     "data": {
      "text/plain": [
       "(2473,)"
      ]
     },
     "execution_count": 155,
     "metadata": {},
     "output_type": "execute_result"
    }
   ],
   "source": [
    "x_test.shape\n",
    "y_train.shape"
   ]
  },
  {
   "cell_type": "markdown",
   "metadata": {},
   "source": [
    "Defining the model"
   ]
  },
  {
   "cell_type": "code",
   "execution_count": 156,
   "metadata": {
    "id": "YqXYxlXkPVZU"
   },
   "outputs": [],
   "source": [
    "from sklearn.linear_model import LinearRegression\n",
    "lr=LinearRegression()"
   ]
  },
  {
   "cell_type": "code",
   "execution_count": 157,
   "metadata": {
    "colab": {
     "base_uri": "https://localhost:8080/",
     "height": 34
    },
    "id": "hqcNLK-6PVZV",
    "outputId": "74e4f366-ab6c-425f-8672-a7d9d245ecaf"
   },
   "outputs": [
    {
     "data": {
      "text/plain": [
       "LinearRegression()"
      ]
     },
     "execution_count": 157,
     "metadata": {},
     "output_type": "execute_result"
    }
   ],
   "source": [
    "lr.fit(x_train, y_train)"
   ]
  },
  {
   "cell_type": "markdown",
   "metadata": {},
   "source": [
    "predicting the values of prices"
   ]
  },
  {
   "cell_type": "code",
   "execution_count": 158,
   "metadata": {
    "id": "PqXARhgCPVZW"
   },
   "outputs": [],
   "source": [
    "y_prediction=lr.predict(x_test)"
   ]
  },
  {
   "cell_type": "markdown",
   "metadata": {},
   "source": [
    "The plot compares Actual vs Predicted values"
   ]
  },
  {
   "cell_type": "code",
   "execution_count": 159,
   "metadata": {
    "id": "3n1s4VF3PVZY"
   },
   "outputs": [],
   "source": [
    "df=pd.DataFrame({'Actual':np.round(y_test, 0), 'Predicted':np.round(y_prediction, 0)})"
   ]
  },
  {
   "cell_type": "code",
   "execution_count": 160,
   "metadata": {
    "colab": {
     "base_uri": "https://localhost:8080/",
     "height": 424
    },
    "id": "0tuNcRVWPVZa",
    "outputId": "ce88a37f-dd2c-42f0-818c-06c302810985"
   },
   "outputs": [
    {
     "data": {
      "text/html": [
       "<div>\n",
       "<style scoped>\n",
       "    .dataframe tbody tr th:only-of-type {\n",
       "        vertical-align: middle;\n",
       "    }\n",
       "\n",
       "    .dataframe tbody tr th {\n",
       "        vertical-align: top;\n",
       "    }\n",
       "\n",
       "    .dataframe thead th {\n",
       "        text-align: right;\n",
       "    }\n",
       "</style>\n",
       "<table border=\"1\" class=\"dataframe\">\n",
       "  <thead>\n",
       "    <tr style=\"text-align: right;\">\n",
       "      <th></th>\n",
       "      <th>Actual</th>\n",
       "      <th>Predicted</th>\n",
       "    </tr>\n",
       "  </thead>\n",
       "  <tbody>\n",
       "    <tr>\n",
       "      <th>3145</th>\n",
       "      <td>0.0</td>\n",
       "      <td>0.0</td>\n",
       "    </tr>\n",
       "    <tr>\n",
       "      <th>870</th>\n",
       "      <td>-0.0</td>\n",
       "      <td>0.0</td>\n",
       "    </tr>\n",
       "    <tr>\n",
       "      <th>191</th>\n",
       "      <td>1.0</td>\n",
       "      <td>0.0</td>\n",
       "    </tr>\n",
       "    <tr>\n",
       "      <th>1179</th>\n",
       "      <td>1.0</td>\n",
       "      <td>0.0</td>\n",
       "    </tr>\n",
       "    <tr>\n",
       "      <th>2368</th>\n",
       "      <td>-1.0</td>\n",
       "      <td>-0.0</td>\n",
       "    </tr>\n",
       "    <tr>\n",
       "      <th>...</th>\n",
       "      <td>...</td>\n",
       "      <td>...</td>\n",
       "    </tr>\n",
       "    <tr>\n",
       "      <th>2844</th>\n",
       "      <td>1.0</td>\n",
       "      <td>0.0</td>\n",
       "    </tr>\n",
       "    <tr>\n",
       "      <th>3059</th>\n",
       "      <td>-1.0</td>\n",
       "      <td>-0.0</td>\n",
       "    </tr>\n",
       "    <tr>\n",
       "      <th>1490</th>\n",
       "      <td>2.0</td>\n",
       "      <td>0.0</td>\n",
       "    </tr>\n",
       "    <tr>\n",
       "      <th>1202</th>\n",
       "      <td>-1.0</td>\n",
       "      <td>-0.0</td>\n",
       "    </tr>\n",
       "    <tr>\n",
       "      <th>1589</th>\n",
       "      <td>2.0</td>\n",
       "      <td>0.0</td>\n",
       "    </tr>\n",
       "  </tbody>\n",
       "</table>\n",
       "<p>1061 rows × 2 columns</p>\n",
       "</div>"
      ],
      "text/plain": [
       "      Actual  Predicted\n",
       "3145     0.0        0.0\n",
       "870     -0.0        0.0\n",
       "191      1.0        0.0\n",
       "1179     1.0        0.0\n",
       "2368    -1.0       -0.0\n",
       "...      ...        ...\n",
       "2844     1.0        0.0\n",
       "3059    -1.0       -0.0\n",
       "1490     2.0        0.0\n",
       "1202    -1.0       -0.0\n",
       "1589     2.0        0.0\n",
       "\n",
       "[1061 rows x 2 columns]"
      ]
     },
     "execution_count": 160,
     "metadata": {},
     "output_type": "execute_result"
    }
   ],
   "source": [
    "df"
   ]
  },
  {
   "cell_type": "code",
   "execution_count": 162,
   "metadata": {
    "id": "hgwQZeahPVZb"
   },
   "outputs": [],
   "source": [
    "from sklearn.metrics import mean_squared_error\n",
    "from sklearn import metrics\n"
   ]
  },
  {
   "cell_type": "code",
   "execution_count": 163,
   "metadata": {
    "colab": {
     "base_uri": "https://localhost:8080/",
     "height": 34
    },
    "id": "Tl2s6848Rue2",
    "outputId": "34f0a985-54a8-4fb6-c990-c810b07fc267"
   },
   "outputs": [
    {
     "data": {
      "text/plain": [
       "0.9211585253697794"
      ]
     },
     "execution_count": 163,
     "metadata": {},
     "output_type": "execute_result"
    }
   ],
   "source": [
    "from sklearn.metrics import mean_squared_error\n",
    "mean_squared_error(y_test, y_prediction)"
   ]
  },
  {
   "cell_type": "code",
   "execution_count": 173,
   "metadata": {},
   "outputs": [],
   "source": [
    "import matplotlib.pyplot as plt"
   ]
  },
  {
   "cell_type": "markdown",
   "metadata": {},
   "source": [
    "https://jakevdp.github.io/PythonDataScienceHandbook/04.01-simple-line-plots.html"
   ]
  },
  {
   "cell_type": "code",
   "execution_count": 178,
   "metadata": {},
   "outputs": [
    {
     "data": {
      "text/plain": [
       "<matplotlib.legend.Legend at 0x1c218fcda48>"
      ]
     },
     "execution_count": 178,
     "metadata": {},
     "output_type": "execute_result"
    },
    {
     "data": {
      "image/png": "[encoded data removed]",
      "text/plain": [
       "<Figure size 432x288 with 1 Axes>"
      ]
     },
     "metadata": {
      "needs_background": "light"
     },
     "output_type": "display_data"
    }
   ],
   "source": [
    "plt.plot(df['Actual'], label='Actual Values')\n",
    "plt.plot(df['Predicted'], label='Predicted Values')\n",
    "plt.legend()"
   ]
  },
  {
   "cell_type": "markdown",
   "metadata": {},
   "source": [
    "https://seaborn.pydata.org/generated/seaborn.lineplot.html"
   ]
  },
  {
   "cell_type": "code",
   "execution_count": 179,
   "metadata": {},
   "outputs": [
    {
     "data": {
      "text/plain": [
       "<matplotlib.axes._subplots.AxesSubplot at 0x1c219002a48>"
      ]
     },
     "execution_count": 179,
     "metadata": {},
     "output_type": "execute_result"
    },
    {
     "data": {
      "image/png": "[encoded data removed]",
      "text/plain": [
       "<Figure size 432x288 with 1 Axes>"
      ]
     },
     "metadata": {
      "needs_background": "light"
     },
     "output_type": "display_data"
    }
   ],
   "source": [
    "sns.lineplot(data=df, x='Actual', y='Predicted')"
   ]
  },
  {
   "cell_type": "code",
   "execution_count": null,
   "metadata": {},
   "outputs": [],
   "source": []
  }
 ],
 "metadata": {
  "colab": {
   "name": "Untitled.ipynb",
   "provenance": []
  },
  "kernelspec": {
   "display_name": "Python 3",
   "language": "python",
   "name": "python3"
  },
  "language_info": {
   "codemirror_mode": {
    "name": "ipython",
    "version": 3
   },
   "file_extension": ".py",
   "mimetype": "text/x-python",
   "name": "python",
   "nbconvert_exporter": "python",
   "pygments_lexer": "ipython3",
   "version": "3.7.6"
  }
 },
 "nbformat": 4,
 "nbformat_minor": 4
}
